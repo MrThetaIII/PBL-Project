{
 "cells": [
  {
   "cell_type": "code",
   "execution_count": 248,
   "metadata": {},
   "outputs": [],
   "source": [
    "import cv2\n",
    "import os\n",
    "import json\n",
    "import time\n",
    "import copy\n",
    "import numpy as np\n",
    "from matplotlib import pyplot as plt\n",
    "from cpd_auto import cpd_auto\n",
    "from moviepy.editor import VideoFileClip, concatenate_videoclips"
   ]
  },
  {
   "cell_type": "code",
   "execution_count": 288,
   "metadata": {},
   "outputs": [],
   "source": [
    "percentage_selected = 0.5\n",
    "number_of_segments = 200"
   ]
  },
  {
   "cell_type": "code",
   "execution_count": 250,
   "metadata": {},
   "outputs": [
    {
     "name": "stdout",
     "output_type": "stream",
     "text": [
      "Precomputing scatters...\n",
      "Inferring best change points...\n",
      "Precomputing scatters...\n",
      "Inferring best change points...\n",
      "video number 1 is done\n",
      "Precomputing scatters...\n",
      "Inferring best change points...\n",
      "Precomputing scatters...\n",
      "Inferring best change points...\n",
      "video number 2 is done\n",
      "Precomputing scatters...\n",
      "Inferring best change points...\n",
      "Precomputing scatters...\n",
      "Inferring best change points...\n",
      "video number 3 is done\n",
      "Precomputing scatters...\n",
      "Inferring best change points...\n",
      "Precomputing scatters...\n",
      "Inferring best change points...\n",
      "video number 4 is done\n",
      "Precomputing scatters...\n",
      "Inferring best change points...\n",
      "Precomputing scatters...\n",
      "Inferring best change points...\n",
      "video number 5 is done\n",
      "Precomputing scatters...\n",
      "Inferring best change points...\n",
      "Precomputing scatters...\n",
      "Inferring best change points...\n",
      "video number 6 is done\n",
      "Precomputing scatters...\n",
      "Inferring best change points...\n",
      "Precomputing scatters...\n",
      "Inferring best change points...\n",
      "video number 7 is done\n",
      "Precomputing scatters...\n",
      "Inferring best change points...\n",
      "Precomputing scatters...\n",
      "Inferring best change points...\n",
      "video number 8 is done\n",
      "Precomputing scatters...\n",
      "Inferring best change points...\n",
      "Precomputing scatters...\n",
      "Inferring best change points...\n",
      "video number 9 is done\n",
      "[{'video': 'gzDbaEs1Rlg.mp4', 'stop_frames': [0, 16, 46, 61, 76, 106, 121, 151, 181, 241, 286, 361, 406, 526, 541, 556, 571, 586, 631, 676, 691, 706, 826, 841, 871, 901, 916, 946, 961, 991, 1006, 1021, 1051, 1096, 1111, 1246, 1261, 1291, 1321, 1336, 1351, 1366, 1381, 1426, 1561, 1576, 1591, 1606, 1621, 1636, 1711, 1726, 1741, 1756, 1771, 1786, 1801, 1831, 1861, 1906, 1921, 1936, 1951, 1966, 1996, 2026, 2041, 2071, 2086, 2101, 2116, 2131, 2221, 2251, 2296, 2326, 2386, 2401, 2416, 2431, 2491, 2506, 2551, 2566, 2611, 2626, 2671, 2716, 2731, 2746, 2761, 2851, 2866, 2896, 2941, 2956, 2986, 3061, 3076, 3106, 3121, 3136, 3226, 3241, 3256, 3271, 3286, 3316, 3331, 3391, 3436, 3451, 3496, 3511, 3601, 3616, 3631, 3646, 3676, 3691, 3721, 3766, 3796, 3826, 3841, 3871, 3916, 3946, 3976, 3991, 4066, 4081, 4096, 4111, 4156, 4171, 4186, 4216, 4231, 4246, 4261, 4366, 4381, 4396, 4411, 4441, 4546, 4651, 4666, 4681, 4741, 4756, 4771, 4831, 4906, 5041, 5056, 5071, 5131, 5146, 5161, 5176, 5206, 5236, 5251, 5266, 5356, 5431, 5536, 5551, 5596, 5611, 5641, 5656, 5731, 5746, 5836, 5851, 5866, 5881, 5986, 6061, 6106, 6241, 6256, 6271, 6346, 6541, 6631, 6751, 6766, 6781, 6901, 6916, 7006, 7036, 7126, 7141, 7156, 7171, 7186, 7210], 'stop_segments': [0, 1, 3, 4, 5, 7, 8, 10, 12, 16, 19, 24, 27, 35, 36, 37, 38, 39, 42, 45, 46, 47, 55, 56, 58, 60, 61, 63, 64, 66, 67, 68, 70, 73, 74, 83, 84, 86, 88, 89, 90, 91, 92, 95, 104, 105, 106, 107, 108, 109, 114, 115, 116, 117, 118, 119, 120, 122, 124, 127, 128, 129, 130, 131, 133, 135, 136, 138, 139, 140, 141, 142, 148, 150, 153, 155, 159, 160, 161, 162, 166, 167, 170, 171, 174, 175, 178, 181, 182, 183, 184, 190, 191, 193, 196, 197, 199, 204, 205, 207, 208, 209, 215, 216, 217, 218, 219, 221, 222, 226, 229, 230, 233, 234, 240, 241, 242, 243, 245, 246, 248, 251, 253, 255, 256, 258, 261, 263, 265, 266, 271, 272, 273, 274, 277, 278, 279, 281, 282, 283, 284, 291, 292, 293, 294, 296, 303, 310, 311, 312, 316, 317, 318, 322, 327, 336, 337, 338, 342, 343, 344, 345, 347, 349, 350, 351, 357, 362, 369, 370, 373, 374, 376, 377, 382, 383, 389, 390, 391, 392, 399, 404, 407, 416, 417, 418, 423, 436, 442, 450, 451, 452, 460, 461, 467, 469, 475, 476, 477, 478, 479, 480]}, {'video': 'jcoYJXDG9sw.mp4', 'stop_frames': [0, 16, 31, 46, 61, 76, 91, 106, 121, 136, 166, 196, 241, 271, 286, 331, 346, 361, 391, 406, 436, 466, 526, 541, 571, 601, 646, 676, 691, 751, 766, 781, 811, 826, 856, 886, 931, 976, 1006, 1021, 1051, 1081, 1096, 1141, 1171, 1216, 1231, 1261, 1276, 1291, 1321, 1366, 1381, 1396, 1471, 1486, 1531, 1546, 1561, 1666, 1696, 1726, 1741, 1786, 1831, 1861, 1921, 1936, 1966, 1996, 2011, 2146, 2221, 2251, 2296, 2326, 2356, 2416, 2431, 2446, 2461, 2506, 2521, 2566, 2596, 2656, 2671, 2686, 2701, 2716, 2731, 2746, 2776, 2806, 2821, 2836, 2851, 2866, 2881, 2896, 2911, 2926, 2941, 2956, 2971, 2986, 3001, 3016, 3031, 3046, 3061, 3076, 3091, 3121, 3136, 3151, 3166, 3181, 3196, 3211, 3226, 3241, 3256, 3271, 3286, 3316, 3346, 3421, 3451, 3466, 3511, 3571, 3601, 3616, 3646, 3661, 3676, 3691, 3721, 3751, 3766, 3811, 3841, 3856, 3871, 3886, 3916, 3931, 4021, 4096, 4141, 4201, 4216, 4246, 4306, 4381, 4396, 4441, 4456, 4486, 4501, 4516, 4531, 4561, 4576, 4621, 4636, 4666, 4696, 4741, 4756, 4771, 4876, 4891, 5026, 5041, 5071, 5086, 5131, 5176, 5191, 5206, 5236, 5266, 5296, 5311, 5326, 5416, 5446, 5491, 5506, 5536, 5581, 5626, 5641, 5746, 5791, 5806, 5836, 5851, 5926, 5971], 'stop_segments': [0, 1, 2, 3, 4, 5, 6, 7, 8, 9, 11, 13, 16, 18, 19, 22, 23, 24, 26, 27, 29, 31, 35, 36, 38, 40, 43, 45, 46, 50, 51, 52, 54, 55, 57, 59, 62, 65, 67, 68, 70, 72, 73, 76, 78, 81, 82, 84, 85, 86, 88, 91, 92, 93, 98, 99, 102, 103, 104, 111, 113, 115, 116, 119, 122, 124, 128, 129, 131, 133, 134, 143, 148, 150, 153, 155, 157, 161, 162, 163, 164, 167, 168, 171, 173, 177, 178, 179, 180, 181, 182, 183, 185, 187, 188, 189, 190, 191, 192, 193, 194, 195, 196, 197, 198, 199, 200, 201, 202, 203, 204, 205, 206, 208, 209, 210, 211, 212, 213, 214, 215, 216, 217, 218, 219, 221, 223, 228, 230, 231, 234, 238, 240, 241, 243, 244, 245, 246, 248, 250, 251, 254, 256, 257, 258, 259, 261, 262, 268, 273, 276, 280, 281, 283, 287, 292, 293, 296, 297, 299, 300, 301, 302, 304, 305, 308, 309, 311, 313, 316, 317, 318, 325, 326, 335, 336, 338, 339, 342, 345, 346, 347, 349, 351, 353, 354, 355, 361, 363, 366, 367, 369, 372, 375, 376, 383, 386, 387, 389, 390, 395, 398]}, {'video': 'oDXZc0tZe04.mp4', 'stop_frames': [0, 16, 31, 46, 76, 301, 316, 331, 346, 406, 436, 451, 481, 526, 556, 601, 646, 706, 721, 751, 781, 796, 826, 856, 916, 946, 991, 1051, 1096, 1126, 1216, 1246, 1276, 1321, 1336, 1396, 1441, 1456, 1486, 1531, 1591, 1651, 1696, 1741, 1771, 1801, 1831, 1846, 1906, 1981, 2056, 2161, 2221, 2491, 2551, 2641, 2761, 2851, 3076, 3196, 3226, 3271, 3286, 3316, 3346, 3361, 3376, 3391, 3451, 3481, 3541, 3721, 3766, 3856, 3916, 3946, 3961, 3991, 4036, 4066, 4081, 4156, 4246, 4291, 4336, 4366, 4426, 4501, 4561, 4621, 4636, 4741, 4756, 4771, 4786, 4831, 4891, 4921, 4966, 4981, 4996, 5011, 5071, 5191, 5236, 5266, 5296, 5311, 5341, 5446, 5536, 5716, 5806, 5881, 5926, 5956, 6256, 6301, 6391, 6496, 6571, 6631, 6661, 6706, 6751, 6781, 6841, 6871, 7096, 7171, 7231, 7381, 7441, 7471, 7546, 7561, 7636, 7666, 7696, 7756, 7846, 7906, 7981, 7996, 8086, 8101, 8116, 8161, 8176, 8191, 8206, 8221, 8236, 8281, 8296, 8341, 8371, 8401, 8461, 8536, 8566, 8611, 8656, 8731, 8776, 8806, 8896, 8986, 9076, 9166, 9331, 9451, 9511, 9676, 9721, 9781, 9856, 9946, 9976, 10036, 10171, 10231, 10246, 10441, 10546, 10606, 10666, 10696, 10756, 10846, 10921, 10951, 10966, 10996, 11056, 11086, 11131, 11146, 11161, 11371, 11386, 11414], 'stop_segments': [0, 1, 2, 3, 5, 20, 21, 22, 23, 27, 29, 30, 32, 35, 37, 40, 43, 47, 48, 50, 52, 53, 55, 57, 61, 63, 66, 70, 73, 75, 81, 83, 85, 88, 89, 93, 96, 97, 99, 102, 106, 110, 113, 116, 118, 120, 122, 123, 127, 132, 137, 144, 148, 166, 170, 176, 184, 190, 205, 213, 215, 218, 219, 221, 223, 224, 225, 226, 230, 232, 236, 248, 251, 257, 261, 263, 264, 266, 269, 271, 272, 277, 283, 286, 289, 291, 295, 300, 304, 308, 309, 316, 317, 318, 319, 322, 326, 328, 331, 332, 333, 334, 338, 346, 349, 351, 353, 354, 356, 363, 369, 381, 387, 392, 395, 397, 417, 420, 426, 433, 438, 442, 444, 447, 450, 452, 456, 458, 473, 478, 482, 492, 496, 498, 503, 504, 509, 511, 513, 517, 523, 527, 532, 533, 539, 540, 541, 544, 545, 546, 547, 548, 549, 552, 553, 556, 558, 560, 564, 569, 571, 574, 577, 582, 585, 587, 593, 599, 605, 611, 622, 630, 634, 645, 648, 652, 657, 663, 665, 669, 678, 682, 683, 696, 703, 707, 711, 713, 717, 723, 728, 730, 731, 733, 737, 739, 742, 743, 744, 758, 759, 760]}, {'video': 'PJrm840pAUI.mp4', 'stop_frames': [0, 16, 46, 76, 106, 166, 181, 241, 301, 316, 346, 391, 406, 421, 436, 481, 496, 511, 526, 541, 556, 646, 661, 721, 736, 766, 796, 841, 856, 886, 946, 991, 1036, 1051, 1096, 1111, 1126, 1141, 1156, 1186, 1201, 1246, 1276, 1306, 1351, 1366, 1381, 1471, 1486, 1501, 1531, 1591, 1606, 1651, 1681, 1696, 1711, 1741, 1756, 1786, 1801, 1891, 1906, 1936, 1966, 1981, 1996, 2011, 2056, 2071, 2116, 2146, 2161, 2176, 2191, 2221, 2266, 2281, 2326, 2341, 2371, 2386, 2401, 2431, 2461, 2536, 2551, 2596, 2611, 2626, 2671, 2701, 2731, 2746, 2791, 2851, 2881, 2896, 2911, 2926, 2941, 3031, 3076, 3091, 3121, 3151, 3166, 3181, 3196, 3241, 3301, 3346, 3376, 3421, 3451, 3466, 3511, 3526, 3541, 3556, 3616, 3796, 3811, 3826, 3841, 3856, 3901, 3916, 3991, 4051, 4096, 4141, 4156, 4186, 4276, 4291, 4321, 4381, 4396, 4411, 4426, 4471, 4501, 4531, 4546, 4561, 4591, 4606, 4666, 4681, 4756, 4786, 4816, 4831, 4861, 4876, 4891, 4906, 4951, 5026, 5041, 5086, 5116, 5146, 5161, 5221, 5251, 5296, 5311, 5326, 5386, 5491, 5611, 5716, 5776, 5791, 5806, 5851, 5881, 5941, 5956, 5971, 5986, 6091, 6106, 6121, 6136, 6151, 6166, 6181, 6196, 6211, 6286, 6301, 6316, 6331, 6346, 6376, 6421, 6436, 6526, 6580], 'stop_segments': [0, 1, 3, 5, 7, 11, 12, 16, 20, 21, 23, 26, 27, 28, 29, 32, 33, 34, 35, 36, 37, 43, 44, 48, 49, 51, 53, 56, 57, 59, 63, 66, 69, 70, 73, 74, 75, 76, 77, 79, 80, 83, 85, 87, 90, 91, 92, 98, 99, 100, 102, 106, 107, 110, 112, 113, 114, 116, 117, 119, 120, 126, 127, 129, 131, 132, 133, 134, 137, 138, 141, 143, 144, 145, 146, 148, 151, 152, 155, 156, 158, 159, 160, 162, 164, 169, 170, 173, 174, 175, 178, 180, 182, 183, 186, 190, 192, 193, 194, 195, 196, 202, 205, 206, 208, 210, 211, 212, 213, 216, 220, 223, 225, 228, 230, 231, 234, 235, 236, 237, 241, 253, 254, 255, 256, 257, 260, 261, 266, 270, 273, 276, 277, 279, 285, 286, 288, 292, 293, 294, 295, 298, 300, 302, 303, 304, 306, 307, 311, 312, 317, 319, 321, 322, 324, 325, 326, 327, 330, 335, 336, 339, 341, 343, 344, 348, 350, 353, 354, 355, 359, 366, 374, 381, 385, 386, 387, 390, 392, 396, 397, 398, 399, 406, 407, 408, 409, 410, 411, 412, 413, 414, 419, 420, 421, 422, 423, 425, 428, 429, 435, 438]}, {'video': 'EYqVtI9YWJA.mp4', 'stop_frames': [0, 16, 31, 46, 61, 76, 91, 136, 196, 226, 241, 286, 316, 361, 376, 436, 496, 511, 526, 541, 556, 571, 586, 601, 631, 646, 661, 706, 721, 751, 766, 796, 856, 901, 931, 946, 976, 1036, 1066, 1096, 1126, 1141, 1156, 1171, 1186, 1216, 1246, 1261, 1276, 1321, 1336, 1381, 1441, 1456, 1546, 1576, 1636, 1666, 1711, 1726, 1741, 1771, 1786, 1801, 1816, 1846, 1876, 1891, 1906, 1936, 1951, 1966, 1996, 2041, 2056, 2071, 2101, 2116, 2131, 2146, 2191, 2221, 2251, 2281, 2311, 2326, 2341, 2386, 2416, 2446, 2491, 2536, 2566, 2596, 2611, 2716, 2776, 2806, 2866, 2911, 2926, 2971, 3001, 3016, 3046, 3061, 3136, 3166, 3196, 3211, 3226, 3241, 3256, 3286, 3301, 3316, 3361, 3406, 3451, 3466, 3496, 3526, 3571, 3601, 3616, 3661, 3676, 3721, 3751, 3796, 3841, 3856, 3916, 3961, 3976, 3991, 4006, 4051, 4066, 4096, 4156, 4186, 4216, 4246, 4336, 4351, 4366, 4381, 4411, 4441, 4456, 4516, 4561, 4576, 4606, 4621, 4636, 4651, 4666, 4681, 4696, 4726, 4756, 4816, 4846, 4861, 4891, 4951, 5011, 5041, 5071, 5101, 5131, 5146, 5161, 5191, 5206, 5236, 5251, 5266, 5311, 5341, 5356, 5386, 5401, 5461, 5491, 5506, 5521, 5536, 5551, 5581, 5611, 5626, 5641, 5716, 5731, 5746, 5776, 5806, 5836, 5939], 'stop_segments': [0, 1, 2, 3, 4, 5, 6, 9, 13, 15, 16, 19, 21, 24, 25, 29, 33, 34, 35, 36, 37, 38, 39, 40, 42, 43, 44, 47, 48, 50, 51, 53, 57, 60, 62, 63, 65, 69, 71, 73, 75, 76, 77, 78, 79, 81, 83, 84, 85, 88, 89, 92, 96, 97, 103, 105, 109, 111, 114, 115, 116, 118, 119, 120, 121, 123, 125, 126, 127, 129, 130, 131, 133, 136, 137, 138, 140, 141, 142, 143, 146, 148, 150, 152, 154, 155, 156, 159, 161, 163, 166, 169, 171, 173, 174, 181, 185, 187, 191, 194, 195, 198, 200, 201, 203, 204, 209, 211, 213, 214, 215, 216, 217, 219, 220, 221, 224, 227, 230, 231, 233, 235, 238, 240, 241, 244, 245, 248, 250, 253, 256, 257, 261, 264, 265, 266, 267, 270, 271, 273, 277, 279, 281, 283, 289, 290, 291, 292, 294, 296, 297, 301, 304, 305, 307, 308, 309, 310, 311, 312, 313, 315, 317, 321, 323, 324, 326, 330, 334, 336, 338, 340, 342, 343, 344, 346, 347, 349, 350, 351, 354, 356, 357, 359, 360, 364, 366, 367, 368, 369, 370, 372, 374, 375, 376, 381, 382, 383, 385, 387, 389, 395]}, {'video': '37rzWOQsNIw.mp4', 'stop_frames': [0, 31, 61, 106, 121, 151, 166, 181, 196, 226, 241, 256, 271, 286, 316, 331, 346, 361, 376, 391, 406, 421, 436, 451, 466, 481, 496, 511, 556, 586, 631, 646, 691, 721, 766, 781, 811, 841, 856, 901, 931, 946, 976, 1006, 1036, 1051, 1081, 1096, 1111, 1141, 1156, 1201, 1231, 1246, 1261, 1336, 1351, 1366, 1381, 1396, 1441, 1486, 1516, 1531, 1561, 1576, 1606, 1621, 1666, 1696, 1726, 1756, 1771, 1801, 1846, 1861, 1876, 1891, 1951, 1981, 2011, 2026, 2056, 2101, 2116, 2131, 2191, 2206, 2221, 2236, 2251, 2266, 2281, 2356, 2386, 2416, 2461, 2476, 2491, 2506, 2551, 2596, 2656, 2701, 2746, 2776, 2791, 2821, 2896, 2956, 3016, 3031, 3061, 3136, 3196, 3211, 3226, 3241, 3256, 3271, 3301, 3391, 3451, 3511, 3541, 3586, 3631, 3676, 3751, 3781, 3871, 3931, 3946, 3961, 3991, 4066, 4096, 4141, 4156, 4171, 4186, 4201, 4246, 4276, 4336, 4366, 4381, 4411, 4426, 4441, 4456, 4471, 4486, 4501, 4516, 4546, 4591, 4606, 4621, 4636, 4666, 4681, 4711, 4726, 4741, 4786, 4816, 4846, 4861, 4876, 4906, 4936, 4951, 4966, 5011, 5041, 5056, 5071, 5161, 5176, 5191, 5206, 5221, 5236, 5251, 5266, 5281, 5296, 5326, 5386, 5416, 5431, 5446, 5461, 5476, 5491, 5566, 5581, 5626, 5701, 5716, 5742], 'stop_segments': [0, 2, 4, 7, 8, 10, 11, 12, 13, 15, 16, 17, 18, 19, 21, 22, 23, 24, 25, 26, 27, 28, 29, 30, 31, 32, 33, 34, 37, 39, 42, 43, 46, 48, 51, 52, 54, 56, 57, 60, 62, 63, 65, 67, 69, 70, 72, 73, 74, 76, 77, 80, 82, 83, 84, 89, 90, 91, 92, 93, 96, 99, 101, 102, 104, 105, 107, 108, 111, 113, 115, 117, 118, 120, 123, 124, 125, 126, 130, 132, 134, 135, 137, 140, 141, 142, 146, 147, 148, 149, 150, 151, 152, 157, 159, 161, 164, 165, 166, 167, 170, 173, 177, 180, 183, 185, 186, 188, 193, 197, 201, 202, 204, 209, 213, 214, 215, 216, 217, 218, 220, 226, 230, 234, 236, 239, 242, 245, 250, 252, 258, 262, 263, 264, 266, 271, 273, 276, 277, 278, 279, 280, 283, 285, 289, 291, 292, 294, 295, 296, 297, 298, 299, 300, 301, 303, 306, 307, 308, 309, 311, 312, 314, 315, 316, 319, 321, 323, 324, 325, 327, 329, 330, 331, 334, 336, 337, 338, 344, 345, 346, 347, 348, 349, 350, 351, 352, 353, 355, 359, 361, 362, 363, 364, 365, 366, 371, 372, 375, 380, 381, 382]}, {'video': 'JgHubY5Vw3Y.mp4', 'stop_frames': [0, 16, 46, 61, 76, 136, 166, 181, 196, 211, 226, 241, 256, 271, 286, 301, 316, 331, 346, 361, 376, 391, 406, 421, 451, 466, 481, 496, 511, 526, 556, 571, 586, 601, 616, 631, 646, 661, 676, 691, 706, 721, 736, 751, 796, 811, 826, 841, 856, 871, 916, 931, 961, 976, 1006, 1021, 1036, 1081, 1096, 1111, 1141, 1156, 1186, 1201, 1216, 1231, 1246, 1276, 1291, 1306, 1336, 1351, 1381, 1396, 1501, 1516, 1531, 1546, 1561, 1576, 1606, 1621, 1636, 1651, 1666, 1681, 1696, 1711, 1756, 1771, 1786, 1801, 1816, 1846, 1861, 1876, 1891, 1906, 1921, 1966, 1981, 2011, 2026, 2041, 2086, 2131, 2191, 2206, 2221, 2236, 2356, 2371, 2386, 2401, 2416, 2431, 2446, 2461, 2476, 2491, 2506, 2521, 2536, 2551, 2611, 2626, 2641, 2656, 2671, 2686, 2701, 2746, 2761, 2791, 2806, 2821, 2836, 2851, 2866, 2881, 2896, 2911, 2926, 2941, 2956, 2971, 2986, 3001, 3016, 3031, 3046, 3061, 3076, 3091, 3106, 3121, 3136, 3151, 3166, 3181, 3196, 3211, 3226, 3241, 3256, 3271, 3286, 3301, 3316, 3331, 3346, 3361, 3376, 3541, 3586, 3661, 3706, 3721, 3736, 3751, 3781, 3796, 3811, 3826, 3841, 3856, 3886, 3901, 3931, 3961, 3991, 4036, 4066, 4081, 4096, 4141, 4156, 4231, 4246, 4261, 4276, 4304], 'stop_segments': [0, 1, 3, 4, 5, 9, 11, 12, 13, 14, 15, 16, 17, 18, 19, 20, 21, 22, 23, 24, 25, 26, 27, 28, 30, 31, 32, 33, 34, 35, 37, 38, 39, 40, 41, 42, 43, 44, 45, 46, 47, 48, 49, 50, 53, 54, 55, 56, 57, 58, 61, 62, 64, 65, 67, 68, 69, 72, 73, 74, 76, 77, 79, 80, 81, 82, 83, 85, 86, 87, 89, 90, 92, 93, 100, 101, 102, 103, 104, 105, 107, 108, 109, 110, 111, 112, 113, 114, 117, 118, 119, 120, 121, 123, 124, 125, 126, 127, 128, 131, 132, 134, 135, 136, 139, 142, 146, 147, 148, 149, 157, 158, 159, 160, 161, 162, 163, 164, 165, 166, 167, 168, 169, 170, 174, 175, 176, 177, 178, 179, 180, 183, 184, 186, 187, 188, 189, 190, 191, 192, 193, 194, 195, 196, 197, 198, 199, 200, 201, 202, 203, 204, 205, 206, 207, 208, 209, 210, 211, 212, 213, 214, 215, 216, 217, 218, 219, 220, 221, 222, 223, 224, 225, 236, 239, 244, 247, 248, 249, 250, 252, 253, 254, 255, 256, 257, 259, 260, 262, 264, 266, 269, 271, 272, 273, 276, 277, 282, 283, 284, 285, 286]}, {'video': 'z_6gVvQb2d0.mp4', 'stop_frames': [0, 31, 46, 91, 151, 226, 241, 286, 316, 346, 376, 406, 436, 481, 541, 646, 721, 781, 826, 841, 916, 1021, 1111, 1201, 1321, 1351, 1381, 1426, 1441, 1471, 1486, 1516, 1561, 1621, 1681, 1711, 1771, 1816, 1861, 1906, 2041, 2056, 2101, 2161, 2191, 2236, 2281, 2296, 2326, 2356, 2401, 2476, 2536, 2566, 2641, 2671, 2686, 2731, 2746, 2776, 2806, 2851, 2881, 2896, 2926, 2956, 2986, 3031, 3091, 3151, 3196, 3241, 3346, 3376, 3391, 3421, 3466, 3511, 3541, 3616, 3721, 3841, 3871, 3916, 3961, 3976, 4021, 4051, 4066, 4096, 4111, 4141, 4186, 4231, 4306, 4351, 4381, 4426, 4471, 4501, 4546, 4561, 4606, 4621, 4666, 4696, 4711, 4756, 4786, 4861, 4876, 4936, 4966, 4996, 5026, 5131, 5161, 5176, 5206, 5221, 5236, 5266, 5281, 5341, 5371, 5401, 5431, 5461, 5521, 5551, 5581, 5596, 5641, 5671, 5701, 5731, 5776, 5821, 5836, 5896, 5941, 5956, 5971, 5986, 6046, 6076, 6136, 6151, 6166, 6256, 6286, 6316, 6361, 6391, 6406, 6466, 6496, 6541, 6556, 6586, 6616, 6631, 6706, 6751, 6781, 6871, 6916, 6961, 6991, 7036, 7051, 7111, 7141, 7171, 7306, 7381, 7411, 7426, 7441, 7456, 7486, 7501, 7531, 7561, 7681, 7696, 7756, 7801, 7831, 7861, 7891, 7906, 7921, 7981, 7996, 8026, 8056, 8131, 8161, 8206, 8251, 8281], 'stop_segments': [0, 2, 3, 6, 10, 15, 16, 19, 21, 23, 25, 27, 29, 32, 36, 43, 48, 52, 55, 56, 61, 68, 74, 80, 88, 90, 92, 95, 96, 98, 99, 101, 104, 108, 112, 114, 118, 121, 124, 127, 136, 137, 140, 144, 146, 149, 152, 153, 155, 157, 160, 165, 169, 171, 176, 178, 179, 182, 183, 185, 187, 190, 192, 193, 195, 197, 199, 202, 206, 210, 213, 216, 223, 225, 226, 228, 231, 234, 236, 241, 248, 256, 258, 261, 264, 265, 268, 270, 271, 273, 274, 276, 279, 282, 287, 290, 292, 295, 298, 300, 303, 304, 307, 308, 311, 313, 314, 317, 319, 324, 325, 329, 331, 333, 335, 342, 344, 345, 347, 348, 349, 351, 352, 356, 358, 360, 362, 364, 368, 370, 372, 373, 376, 378, 380, 382, 385, 388, 389, 393, 396, 397, 398, 399, 403, 405, 409, 410, 411, 417, 419, 421, 424, 426, 427, 431, 433, 436, 437, 439, 441, 442, 447, 450, 452, 458, 461, 464, 466, 469, 470, 474, 476, 478, 487, 492, 494, 495, 496, 497, 499, 500, 502, 504, 512, 513, 517, 520, 522, 524, 526, 527, 528, 532, 533, 535, 537, 542, 544, 547, 550, 552]}, {'video': 'J0nA4VgnoCo.mp4', 'stop_frames': [0, 61, 106, 121, 166, 346, 421, 451, 511, 541, 571, 586, 676, 721, 781, 856, 946, 1186, 1411, 1561, 1606, 1651, 1786, 2071, 2146, 2176, 2206, 2251, 2401, 2431, 2476, 2491, 2536, 2581, 2611, 2671, 2701, 2731, 2761, 2776, 2911, 2941, 2971, 3001, 3046, 3166, 3196, 3256, 3496, 3556, 3586, 3631, 3721, 3736, 3781, 3901, 3946, 3991, 4036, 4066, 4126, 4156, 4231, 4261, 4411, 4471, 4561, 4696, 4756, 4846, 4951, 5026, 5071, 5086, 5131, 5161, 5206, 5236, 5266, 5326, 5401, 5416, 5431, 5446, 5506, 5581, 5596, 5641, 5686, 5701, 5881, 6046, 6091, 6136, 6301, 6346, 6406, 6436, 6481, 6646, 6691, 6841, 6886, 7111, 7396, 7471, 7561, 7606, 7621, 7636, 7681, 7726, 7816, 7861, 7936, 8071, 8116, 8266, 8461, 8581, 8671, 8686, 8851, 8881, 8911, 8941, 9091, 9106, 9121, 9136, 9211, 9316, 9586, 9616, 9691, 9931, 9976, 10036, 10096, 10126, 10186, 10216, 10261, 10276, 10321, 10351, 10366, 10381, 10471, 10486, 10531, 10621, 10771, 10786, 10876, 10921, 10996, 11056, 11161, 11296, 11326, 11341, 11356, 11371, 11401, 11416, 11431, 11581, 11656, 11746, 11851, 11971, 12061, 12136, 12151, 12166, 12301, 12361, 12421, 12586, 12661, 12691, 12856, 12991, 13021, 13096, 13126, 13141, 13156, 13186, 13216, 13246, 13336, 13366, 13561, 13696, 13816, 13831, 13876, 13921, 13981, 14019], 'stop_segments': [0, 4, 7, 8, 11, 23, 28, 30, 34, 36, 38, 39, 45, 48, 52, 57, 63, 79, 94, 104, 107, 110, 119, 138, 143, 145, 147, 150, 160, 162, 165, 166, 169, 172, 174, 178, 180, 182, 184, 185, 194, 196, 198, 200, 203, 211, 213, 217, 233, 237, 239, 242, 248, 249, 252, 260, 263, 266, 269, 271, 275, 277, 282, 284, 294, 298, 304, 313, 317, 323, 330, 335, 338, 339, 342, 344, 347, 349, 351, 355, 360, 361, 362, 363, 367, 372, 373, 376, 379, 380, 392, 403, 406, 409, 420, 423, 427, 429, 432, 443, 446, 456, 459, 474, 493, 498, 504, 507, 508, 509, 512, 515, 521, 524, 529, 538, 541, 551, 564, 572, 578, 579, 590, 592, 594, 596, 606, 607, 608, 609, 614, 621, 639, 641, 646, 662, 665, 669, 673, 675, 679, 681, 684, 685, 688, 690, 691, 692, 698, 699, 702, 708, 718, 719, 725, 728, 733, 737, 744, 753, 755, 756, 757, 758, 760, 761, 762, 772, 777, 783, 790, 798, 804, 809, 810, 811, 820, 824, 828, 839, 844, 846, 857, 866, 868, 873, 875, 876, 877, 879, 881, 883, 889, 891, 904, 913, 921, 922, 925, 928, 932, 934]}]\n"
     ]
    }
   ],
   "source": [
    "#kts implemented\n",
    "\n",
    "with open(\"./TestingData.json\", 'r') as f:\n",
    "    input_data = json.load(f)\n",
    "\n",
    "processed_data_container = []\n",
    "\n",
    "num = 1\n",
    "for vid in range(len(input_data)):\n",
    "    processed_data = []\n",
    "    for i in range(len(input_data[vid][\"clips\"])):\n",
    "        processed_data.append(input_data[vid][\"clips\"][i]['features'])\n",
    "    \n",
    "\n",
    "    X = copy.copy(processed_data)\n",
    "\n",
    "    K = np.dot(np.array(processed_data), np.array(processed_data).T)\n",
    "    processed_data = cpd_auto(K, number_of_segments, 1)\n",
    "\n",
    "    mi = np.min(X)\n",
    "    ma = np.max(X)\n",
    "    # for cp in processed_data[0]:\n",
    "    #     plt.plot([cp, cp], [mi, ma], 'r')\n",
    "    # plt.show()\n",
    "    \n",
    "    processed_data_container.append({\"video\": input_data[vid]['video'],\"stop_frames\" : [0]+[input_data[vid][\"clips\"][int(i)][\"segment\"][0] for i in processed_data[0]], \"stop_segments\": [0] + [int(i) for i in processed_data[0]] + [len(input_data[vid][\"clips\"])]})\n",
    "\n",
    "    print(f\"video number {num} is done\")\n",
    "    num += 1\n",
    "\n",
    "\n",
    "for vid in range(len(processed_data_container)):\n",
    "    vid_frames = cv2.VideoCapture(f\"../../videos/tvsum/video/{processed_data_container[vid]['video']}\").get(cv2.CAP_PROP_FRAME_COUNT)\n",
    "    if processed_data_container[vid]['stop_frames'][-1] > vid_frames:\n",
    "        processed_data_container[vid]['stop_frames'][-1] = int(vid_frames)\n",
    "    else:\n",
    "        processed_data_container[vid]['stop_frames'].append(int(vid_frames))\n",
    "        \n",
    "print(processed_data_container)\n",
    "\n",
    "with open('array_data.json', 'w') as json_file:\n",
    "    json.dump(processed_data_container, json_file, indent=4)"
   ]
  },
  {
   "cell_type": "code",
   "execution_count": 289,
   "metadata": {},
   "outputs": [],
   "source": [
    "# average importance of segments calculations\n",
    "\n",
    "with open(\"./KTS-input.json\", 'r') as f_segment:\n",
    "    input_data_segments = json.load(f_segment)\n",
    "    # input_data[vid][\"clips\"][i]['features'] {\"gzDbaEs1Rlg.mp4\": [[[1, 15], 1.0, 1.3311079740524292]\n",
    "av_seg_score = {}\n",
    "av_seg_score_gt = {}\n",
    "tmp = []\n",
    "tmp_gt = []\n",
    "for vid in processed_data_container:\n",
    "    tmp = [i[2] for i in input_data_segments[vid['video']]]\n",
    "    tmp_gt = [i[1] for i in input_data_segments[vid['video']]]\n",
    "    av_seg_score[vid['video']] = []\n",
    "    av_seg_score_gt[vid['video']] = []\n",
    "    for i in range(len(vid['stop_segments'])-1):\n",
    "        av_seg_score[vid['video']].append([[vid['stop_frames'][i], vid['stop_frames'][i+1]],\n",
    "                                      sum(tmp[vid['stop_segments'][i]:vid['stop_segments'][i+1]]) / (vid['stop_segments'][i+1] - vid['stop_segments'][i])])  \n",
    "        av_seg_score_gt[vid['video']].append([[vid['stop_frames'][i], vid['stop_frames'][i+1]],\n",
    "                                              sum(tmp_gt[vid['stop_segments'][i]:vid['stop_segments'][i+1]]) / (vid['stop_segments'][i+1] - vid['stop_segments'][i])])\n",
    "\n",
    "with open('av_score_seg_data.json', 'w') as json_file:\n",
    "    json.dump(av_seg_score, json_file, indent=4)\n",
    "\n",
    "with open('av_score_seg_data_gt.json', 'w') as json_file:\n",
    "    json.dump(av_seg_score_gt, json_file, indent=4)\n",
    "    "
   ]
  },
  {
   "cell_type": "code",
   "execution_count": 290,
   "metadata": {},
   "outputs": [],
   "source": [
    "# optimal frames to form the video\n",
    "\n",
    "def fractional_knapsack(segments, importances, max_frames):\n",
    "    # Calculate the value-to-weight ratio for each segment\n",
    "    value_per_weight = [(importance, start, end) for (start, end), importance in zip(segments, importances)]\n",
    "    \n",
    "    # Sort the segments based on the value-to-weight ratio in descending order\n",
    "    value_per_weight.sort(reverse=True, key=lambda x: x[0])\n",
    "    \n",
    "    total_value = 0\n",
    "    selected_segments = []\n",
    "    values = []\n",
    "    remaining_frames = max_frames\n",
    "    \n",
    "    for value_weight, start, end in value_per_weight:\n",
    "        if remaining_frames == 0:\n",
    "            break\n",
    "        \n",
    "        frames = min(end - start + 1, remaining_frames)\n",
    "        value = value_weight * frames\n",
    "        \n",
    "        total_value += value\n",
    "        selected_segments.append((start, start + frames - 1))\n",
    "        values.append(value)\n",
    "        \n",
    "        remaining_frames -= frames\n",
    "    \n",
    "    return selected_segments, values\n",
    "\n",
    "def optimize_segments(input_file, output_file):\n",
    "    outputs = {}\n",
    "    with open(input_file, 'r') as f_segment:\n",
    "        inputs = json.load(f_segment)\n",
    "        for key in inputs.keys():\n",
    "            segments = [inputs[key][i][0] for i in range(len(inputs[key]))]\n",
    "            importances = [inputs[key][i][1] for i in range(len(inputs[key]))]\n",
    "            max_num_frames = segments[-1][-1] * percentage_selected\n",
    "            selected_segments, values = fractional_knapsack(segments, importances, max_num_frames)\n",
    "            selected_segments = [[[selected_segments[i][0], selected_segments[i][1]], values[i]] for i in range(len(selected_segments))]   # [[start, finish], value]\n",
    "            selected_segments.sort(key=lambda x: x[0][0])   \n",
    "            outputs[key] = selected_segments\n",
    "        with open(output_file, 'w') as json_file:\n",
    "            json.dump(outputs, json_file, indent=4)\n",
    "\n",
    "optimize_segments('av_score_seg_data.json', 'selected_frames_with_importance.json')\n",
    "optimize_segments('av_score_seg_data_gt.json', 'selected_frames_with_importance_gt.json')"
   ]
  },
  {
   "cell_type": "code",
   "execution_count": 53,
   "metadata": {},
   "outputs": [
    {
     "name": "stdout",
     "output_type": "stream",
     "text": [
      "Moviepy - Building video ./output_files_with_sound\\gzDbaEs1Rlg_out.mp4.\n",
      "MoviePy - Writing audio in gzDbaEs1Rlg_outTEMP_MPY_wvf_snd.mp4\n"
     ]
    },
    {
     "name": "stderr",
     "output_type": "stream",
     "text": [
      "                                                                      \r"
     ]
    },
    {
     "name": "stdout",
     "output_type": "stream",
     "text": [
      "MoviePy - Done.\n",
      "Moviepy - Writing video ./output_files_with_sound\\gzDbaEs1Rlg_out.mp4\n",
      "\n"
     ]
    },
    {
     "name": "stderr",
     "output_type": "stream",
     "text": [
      "                                                                 \r"
     ]
    },
    {
     "name": "stdout",
     "output_type": "stream",
     "text": [
      "Moviepy - Done !\n",
      "Moviepy - video ready ./output_files_with_sound\\gzDbaEs1Rlg_out.mp4\n",
      "Segments have been extracted and combined into ./output_files_with_sound\\gzDbaEs1Rlg_out.mp4\n",
      "Moviepy - Building video ./output_files_with_sound\\jcoYJXDG9sw_out.mp4.\n",
      "MoviePy - Writing audio in jcoYJXDG9sw_outTEMP_MPY_wvf_snd.mp4\n"
     ]
    },
    {
     "name": "stderr",
     "output_type": "stream",
     "text": [
      "                                                                    \r"
     ]
    },
    {
     "name": "stdout",
     "output_type": "stream",
     "text": [
      "MoviePy - Done.\n",
      "Moviepy - Writing video ./output_files_with_sound\\jcoYJXDG9sw_out.mp4\n",
      "\n"
     ]
    },
    {
     "name": "stderr",
     "output_type": "stream",
     "text": [
      "                                                                 \r"
     ]
    },
    {
     "name": "stdout",
     "output_type": "stream",
     "text": [
      "Moviepy - Done !\n",
      "Moviepy - video ready ./output_files_with_sound\\jcoYJXDG9sw_out.mp4\n",
      "Segments have been extracted and combined into ./output_files_with_sound\\jcoYJXDG9sw_out.mp4\n",
      "Moviepy - Building video ./output_files_with_sound\\oDXZc0tZe04_out.mp4.\n",
      "MoviePy - Writing audio in oDXZc0tZe04_outTEMP_MPY_wvf_snd.mp4\n"
     ]
    },
    {
     "name": "stderr",
     "output_type": "stream",
     "text": [
      "                                                                      \r"
     ]
    },
    {
     "name": "stdout",
     "output_type": "stream",
     "text": [
      "MoviePy - Done.\n",
      "Moviepy - Writing video ./output_files_with_sound\\oDXZc0tZe04_out.mp4\n",
      "\n"
     ]
    },
    {
     "name": "stderr",
     "output_type": "stream",
     "text": [
      "                                                                 \r"
     ]
    },
    {
     "name": "stdout",
     "output_type": "stream",
     "text": [
      "Moviepy - Done !\n",
      "Moviepy - video ready ./output_files_with_sound\\oDXZc0tZe04_out.mp4\n",
      "Segments have been extracted and combined into ./output_files_with_sound\\oDXZc0tZe04_out.mp4\n",
      "Moviepy - Building video ./output_files_with_sound\\PJrm840pAUI_out.mp4.\n",
      "MoviePy - Writing audio in PJrm840pAUI_outTEMP_MPY_wvf_snd.mp4\n"
     ]
    },
    {
     "name": "stderr",
     "output_type": "stream",
     "text": [
      "                                                                     \r"
     ]
    },
    {
     "name": "stdout",
     "output_type": "stream",
     "text": [
      "MoviePy - Done.\n",
      "Moviepy - Writing video ./output_files_with_sound\\PJrm840pAUI_out.mp4\n",
      "\n"
     ]
    },
    {
     "name": "stderr",
     "output_type": "stream",
     "text": [
      "                                                                 \r"
     ]
    },
    {
     "name": "stdout",
     "output_type": "stream",
     "text": [
      "Moviepy - Done !\n",
      "Moviepy - video ready ./output_files_with_sound\\PJrm840pAUI_out.mp4\n",
      "Segments have been extracted and combined into ./output_files_with_sound\\PJrm840pAUI_out.mp4\n",
      "Moviepy - Building video ./output_files_with_sound\\EYqVtI9YWJA_out.mp4.\n",
      "MoviePy - Writing audio in EYqVtI9YWJA_outTEMP_MPY_wvf_snd.mp4\n"
     ]
    },
    {
     "name": "stderr",
     "output_type": "stream",
     "text": [
      "                                                                    \r"
     ]
    },
    {
     "name": "stdout",
     "output_type": "stream",
     "text": [
      "MoviePy - Done.\n",
      "Moviepy - Writing video ./output_files_with_sound\\EYqVtI9YWJA_out.mp4\n",
      "\n"
     ]
    },
    {
     "name": "stderr",
     "output_type": "stream",
     "text": [
      "                                                                 \r"
     ]
    },
    {
     "name": "stdout",
     "output_type": "stream",
     "text": [
      "Moviepy - Done !\n",
      "Moviepy - video ready ./output_files_with_sound\\EYqVtI9YWJA_out.mp4\n",
      "Segments have been extracted and combined into ./output_files_with_sound\\EYqVtI9YWJA_out.mp4\n",
      "Moviepy - Building video ./output_files_with_sound\\37rzWOQsNIw_out.mp4.\n",
      "MoviePy - Writing audio in 37rzWOQsNIw_outTEMP_MPY_wvf_snd.mp4\n"
     ]
    },
    {
     "name": "stderr",
     "output_type": "stream",
     "text": [
      "                                                                    \r"
     ]
    },
    {
     "name": "stdout",
     "output_type": "stream",
     "text": [
      "MoviePy - Done.\n",
      "Moviepy - Writing video ./output_files_with_sound\\37rzWOQsNIw_out.mp4\n",
      "\n"
     ]
    },
    {
     "name": "stderr",
     "output_type": "stream",
     "text": [
      "                                                                 \r"
     ]
    },
    {
     "name": "stdout",
     "output_type": "stream",
     "text": [
      "Moviepy - Done !\n",
      "Moviepy - video ready ./output_files_with_sound\\37rzWOQsNIw_out.mp4\n",
      "Segments have been extracted and combined into ./output_files_with_sound\\37rzWOQsNIw_out.mp4\n",
      "Moviepy - Building video ./output_files_with_sound\\JgHubY5Vw3Y_out.mp4.\n",
      "MoviePy - Writing audio in JgHubY5Vw3Y_outTEMP_MPY_wvf_snd.mp4\n"
     ]
    },
    {
     "name": "stderr",
     "output_type": "stream",
     "text": [
      "                                                                    \r"
     ]
    },
    {
     "name": "stdout",
     "output_type": "stream",
     "text": [
      "MoviePy - Done.\n",
      "Moviepy - Writing video ./output_files_with_sound\\JgHubY5Vw3Y_out.mp4\n",
      "\n"
     ]
    },
    {
     "name": "stderr",
     "output_type": "stream",
     "text": [
      "                                                               \r"
     ]
    },
    {
     "name": "stdout",
     "output_type": "stream",
     "text": [
      "Moviepy - Done !\n",
      "Moviepy - video ready ./output_files_with_sound\\JgHubY5Vw3Y_out.mp4\n",
      "Segments have been extracted and combined into ./output_files_with_sound\\JgHubY5Vw3Y_out.mp4\n",
      "Moviepy - Building video ./output_files_with_sound\\z_6gVvQb2d0_out.mp4.\n",
      "MoviePy - Writing audio in z_6gVvQb2d0_outTEMP_MPY_wvf_snd.mp4\n"
     ]
    },
    {
     "name": "stderr",
     "output_type": "stream",
     "text": [
      "                                                                      \r"
     ]
    },
    {
     "name": "stdout",
     "output_type": "stream",
     "text": [
      "MoviePy - Done.\n",
      "Moviepy - Writing video ./output_files_with_sound\\z_6gVvQb2d0_out.mp4\n",
      "\n"
     ]
    },
    {
     "name": "stderr",
     "output_type": "stream",
     "text": [
      "                                                                 \r"
     ]
    },
    {
     "name": "stdout",
     "output_type": "stream",
     "text": [
      "Moviepy - Done !\n",
      "Moviepy - video ready ./output_files_with_sound\\z_6gVvQb2d0_out.mp4\n",
      "Segments have been extracted and combined into ./output_files_with_sound\\z_6gVvQb2d0_out.mp4\n",
      "Moviepy - Building video ./output_files_with_sound\\J0nA4VgnoCo_out.mp4.\n",
      "MoviePy - Writing audio in J0nA4VgnoCo_outTEMP_MPY_wvf_snd.mp4\n"
     ]
    },
    {
     "name": "stderr",
     "output_type": "stream",
     "text": [
      "                                                                      \r"
     ]
    },
    {
     "name": "stdout",
     "output_type": "stream",
     "text": [
      "MoviePy - Done.\n",
      "Moviepy - Writing video ./output_files_with_sound\\J0nA4VgnoCo_out.mp4\n",
      "\n"
     ]
    },
    {
     "name": "stderr",
     "output_type": "stream",
     "text": [
      "                                                                 \r"
     ]
    },
    {
     "name": "stdout",
     "output_type": "stream",
     "text": [
      "Moviepy - Done !\n",
      "Moviepy - video ready ./output_files_with_sound\\J0nA4VgnoCo_out.mp4\n",
      "Segments have been extracted and combined into ./output_files_with_sound\\J0nA4VgnoCo_out.mp4\n",
      "Moviepy - Building video ./output_files_with_sound\\gzDbaEs1Rlg_out_gt.mp4.\n",
      "MoviePy - Writing audio in gzDbaEs1Rlg_out_gtTEMP_MPY_wvf_snd.mp4\n"
     ]
    },
    {
     "name": "stderr",
     "output_type": "stream",
     "text": [
      "                                                                      \r"
     ]
    },
    {
     "name": "stdout",
     "output_type": "stream",
     "text": [
      "MoviePy - Done.\n",
      "Moviepy - Writing video ./output_files_with_sound\\gzDbaEs1Rlg_out_gt.mp4\n",
      "\n"
     ]
    },
    {
     "name": "stderr",
     "output_type": "stream",
     "text": [
      "                                                                 \r"
     ]
    },
    {
     "name": "stdout",
     "output_type": "stream",
     "text": [
      "Moviepy - Done !\n",
      "Moviepy - video ready ./output_files_with_sound\\gzDbaEs1Rlg_out_gt.mp4\n",
      "Segments have been extracted and combined into ./output_files_with_sound\\gzDbaEs1Rlg_out_gt.mp4\n",
      "Moviepy - Building video ./output_files_with_sound\\jcoYJXDG9sw_out_gt.mp4.\n",
      "MoviePy - Writing audio in jcoYJXDG9sw_out_gtTEMP_MPY_wvf_snd.mp4\n"
     ]
    },
    {
     "name": "stderr",
     "output_type": "stream",
     "text": [
      "                                                                    \r"
     ]
    },
    {
     "name": "stdout",
     "output_type": "stream",
     "text": [
      "MoviePy - Done.\n",
      "Moviepy - Writing video ./output_files_with_sound\\jcoYJXDG9sw_out_gt.mp4\n",
      "\n"
     ]
    },
    {
     "name": "stderr",
     "output_type": "stream",
     "text": [
      "                                                                 \r"
     ]
    },
    {
     "name": "stdout",
     "output_type": "stream",
     "text": [
      "Moviepy - Done !\n",
      "Moviepy - video ready ./output_files_with_sound\\jcoYJXDG9sw_out_gt.mp4\n",
      "Segments have been extracted and combined into ./output_files_with_sound\\jcoYJXDG9sw_out_gt.mp4\n",
      "Moviepy - Building video ./output_files_with_sound\\oDXZc0tZe04_out_gt.mp4.\n",
      "MoviePy - Writing audio in oDXZc0tZe04_out_gtTEMP_MPY_wvf_snd.mp4\n"
     ]
    },
    {
     "name": "stderr",
     "output_type": "stream",
     "text": [
      "                                                                      \r"
     ]
    },
    {
     "name": "stdout",
     "output_type": "stream",
     "text": [
      "MoviePy - Done.\n",
      "Moviepy - Writing video ./output_files_with_sound\\oDXZc0tZe04_out_gt.mp4\n",
      "\n"
     ]
    },
    {
     "name": "stderr",
     "output_type": "stream",
     "text": [
      "                                                                 \r"
     ]
    },
    {
     "name": "stdout",
     "output_type": "stream",
     "text": [
      "Moviepy - Done !\n",
      "Moviepy - video ready ./output_files_with_sound\\oDXZc0tZe04_out_gt.mp4\n",
      "Segments have been extracted and combined into ./output_files_with_sound\\oDXZc0tZe04_out_gt.mp4\n",
      "Moviepy - Building video ./output_files_with_sound\\PJrm840pAUI_out_gt.mp4.\n",
      "MoviePy - Writing audio in PJrm840pAUI_out_gtTEMP_MPY_wvf_snd.mp4\n"
     ]
    },
    {
     "name": "stderr",
     "output_type": "stream",
     "text": [
      "                                                                      \r"
     ]
    },
    {
     "name": "stdout",
     "output_type": "stream",
     "text": [
      "MoviePy - Done.\n",
      "Moviepy - Writing video ./output_files_with_sound\\PJrm840pAUI_out_gt.mp4\n",
      "\n"
     ]
    },
    {
     "name": "stderr",
     "output_type": "stream",
     "text": [
      "                                                                 \r"
     ]
    },
    {
     "name": "stdout",
     "output_type": "stream",
     "text": [
      "Moviepy - Done !\n",
      "Moviepy - video ready ./output_files_with_sound\\PJrm840pAUI_out_gt.mp4\n",
      "Segments have been extracted and combined into ./output_files_with_sound\\PJrm840pAUI_out_gt.mp4\n",
      "Moviepy - Building video ./output_files_with_sound\\EYqVtI9YWJA_out_gt.mp4.\n",
      "MoviePy - Writing audio in EYqVtI9YWJA_out_gtTEMP_MPY_wvf_snd.mp4\n"
     ]
    },
    {
     "name": "stderr",
     "output_type": "stream",
     "text": [
      "                                                                    \r"
     ]
    },
    {
     "name": "stdout",
     "output_type": "stream",
     "text": [
      "MoviePy - Done.\n",
      "Moviepy - Writing video ./output_files_with_sound\\EYqVtI9YWJA_out_gt.mp4\n",
      "\n"
     ]
    },
    {
     "name": "stderr",
     "output_type": "stream",
     "text": [
      "                                                                 \r"
     ]
    },
    {
     "name": "stdout",
     "output_type": "stream",
     "text": [
      "Moviepy - Done !\n",
      "Moviepy - video ready ./output_files_with_sound\\EYqVtI9YWJA_out_gt.mp4\n",
      "Segments have been extracted and combined into ./output_files_with_sound\\EYqVtI9YWJA_out_gt.mp4\n",
      "Moviepy - Building video ./output_files_with_sound\\37rzWOQsNIw_out_gt.mp4.\n",
      "MoviePy - Writing audio in 37rzWOQsNIw_out_gtTEMP_MPY_wvf_snd.mp4\n"
     ]
    },
    {
     "name": "stderr",
     "output_type": "stream",
     "text": [
      "                                                                    \r"
     ]
    },
    {
     "name": "stdout",
     "output_type": "stream",
     "text": [
      "MoviePy - Done.\n",
      "Moviepy - Writing video ./output_files_with_sound\\37rzWOQsNIw_out_gt.mp4\n",
      "\n"
     ]
    },
    {
     "name": "stderr",
     "output_type": "stream",
     "text": [
      "                                                                 \r"
     ]
    },
    {
     "name": "stdout",
     "output_type": "stream",
     "text": [
      "Moviepy - Done !\n",
      "Moviepy - video ready ./output_files_with_sound\\37rzWOQsNIw_out_gt.mp4\n",
      "Segments have been extracted and combined into ./output_files_with_sound\\37rzWOQsNIw_out_gt.mp4\n",
      "Moviepy - Building video ./output_files_with_sound\\JgHubY5Vw3Y_out_gt.mp4.\n",
      "MoviePy - Writing audio in JgHubY5Vw3Y_out_gtTEMP_MPY_wvf_snd.mp4\n"
     ]
    },
    {
     "name": "stderr",
     "output_type": "stream",
     "text": [
      "                                                                    \r"
     ]
    },
    {
     "name": "stdout",
     "output_type": "stream",
     "text": [
      "MoviePy - Done.\n",
      "Moviepy - Writing video ./output_files_with_sound\\JgHubY5Vw3Y_out_gt.mp4\n",
      "\n"
     ]
    },
    {
     "name": "stderr",
     "output_type": "stream",
     "text": [
      "                                                               \r"
     ]
    },
    {
     "name": "stdout",
     "output_type": "stream",
     "text": [
      "Moviepy - Done !\n",
      "Moviepy - video ready ./output_files_with_sound\\JgHubY5Vw3Y_out_gt.mp4\n",
      "Segments have been extracted and combined into ./output_files_with_sound\\JgHubY5Vw3Y_out_gt.mp4\n",
      "Moviepy - Building video ./output_files_with_sound\\z_6gVvQb2d0_out_gt.mp4.\n",
      "MoviePy - Writing audio in z_6gVvQb2d0_out_gtTEMP_MPY_wvf_snd.mp4\n"
     ]
    },
    {
     "name": "stderr",
     "output_type": "stream",
     "text": [
      "                                                                      \r"
     ]
    },
    {
     "name": "stdout",
     "output_type": "stream",
     "text": [
      "MoviePy - Done.\n",
      "Moviepy - Writing video ./output_files_with_sound\\z_6gVvQb2d0_out_gt.mp4\n",
      "\n"
     ]
    },
    {
     "name": "stderr",
     "output_type": "stream",
     "text": [
      "                                                                 \r"
     ]
    },
    {
     "name": "stdout",
     "output_type": "stream",
     "text": [
      "Moviepy - Done !\n",
      "Moviepy - video ready ./output_files_with_sound\\z_6gVvQb2d0_out_gt.mp4\n",
      "Segments have been extracted and combined into ./output_files_with_sound\\z_6gVvQb2d0_out_gt.mp4\n",
      "Moviepy - Building video ./output_files_with_sound\\J0nA4VgnoCo_out_gt.mp4.\n",
      "MoviePy - Writing audio in J0nA4VgnoCo_out_gtTEMP_MPY_wvf_snd.mp4\n"
     ]
    },
    {
     "name": "stderr",
     "output_type": "stream",
     "text": [
      "                                                                      \r"
     ]
    },
    {
     "name": "stdout",
     "output_type": "stream",
     "text": [
      "MoviePy - Done.\n",
      "Moviepy - Writing video ./output_files_with_sound\\J0nA4VgnoCo_out_gt.mp4\n",
      "\n"
     ]
    },
    {
     "name": "stderr",
     "output_type": "stream",
     "text": [
      "                                                                 \r"
     ]
    },
    {
     "name": "stdout",
     "output_type": "stream",
     "text": [
      "Moviepy - Done !\n",
      "Moviepy - video ready ./output_files_with_sound\\J0nA4VgnoCo_out_gt.mp4\n",
      "Segments have been extracted and combined into ./output_files_with_sound\\J0nA4VgnoCo_out_gt.mp4\n"
     ]
    }
   ],
   "source": [
    "# generates summary video with sound\n",
    "\n",
    "def extract_segments(input_video_path, segments, output_path, output_video_name):\n",
    "    # Check if the input video file exists\n",
    "    if not os.path.exists(input_video_path):\n",
    "        print(f\"Error: The video file {input_video_path} does not exist.\")\n",
    "        return\n",
    "    \n",
    "    # Load the video using moviepy\n",
    "    video = VideoFileClip(input_video_path)\n",
    "    \n",
    "    # Extract the segments\n",
    "    clips = []\n",
    "    for start_frame, end_frame in segments:\n",
    "        start_time = start_frame / video.fps\n",
    "        end_time = end_frame / video.fps\n",
    "        clip = video.subclip(start_time, end_time)\n",
    "        clips.append(clip)\n",
    "    \n",
    "    # Concatenate the segments\n",
    "    final_clip = concatenate_videoclips(clips)\n",
    "    \n",
    "    # Ensure the output directory exists\n",
    "    if not os.path.exists(output_path):\n",
    "        os.makedirs(output_path)\n",
    "    \n",
    "    # Define the output video path\n",
    "    output_video_path = os.path.join(output_path, output_video_name)\n",
    "    \n",
    "    # Write the output video file with audio\n",
    "    final_clip.write_videofile(output_video_path, codec='libx264', audio_codec='aac')\n",
    "\n",
    "    print(f\"Segments have been extracted and combined into {output_video_path}\")\n",
    "\n",
    "\n",
    "# Example usage\n",
    "input_dir = '../../videos/tvsum/video'\n",
    "output_dir = './output_files_with_sound'\n",
    "\n",
    "\n",
    "with open(\"./selected_frames_with_importance.json\", 'r') as f_segment:\n",
    "    inputs = json.load(f_segment)\n",
    "    for key in inputs.keys():\n",
    "        segments = [[int(inputs[key][i][0][0]), int(inputs[key][i][0][1])] for i in range(len(inputs[key]))]\n",
    "        video_path = os.path.join(input_dir, f\"{key}\")\n",
    "\n",
    "        extract_segments(video_path, segments, output_dir, f\"{key[:-4]}_out.mp4\")\n",
    "        \n",
    "with open(\"./selected_frames_with_importance_gt.json\", 'r') as f_segment:\n",
    "    inputs = json.load(f_segment)\n",
    "    for key in inputs.keys():\n",
    "        segments = [[int(inputs[key][i][0][0]), int(inputs[key][i][0][1])] for i in range(len(inputs[key]))]\n",
    "        video_path = os.path.join(input_dir, f\"{key}\")\n",
    "\n",
    "        extract_segments(video_path, segments, output_dir, f\"{key[:-4]}_out_gt.mp4\")"
   ]
  },
  {
   "cell_type": "code",
   "execution_count": 291,
   "metadata": {},
   "outputs": [
    {
     "name": "stdout",
     "output_type": "stream",
     "text": [
      "F1 score: 0.5965447739706305\n"
     ]
    }
   ],
   "source": [
    "#Calculate the F1 score\n",
    "with open('selected_frames_with_importance.json', 'r') as f:\n",
    "    selected_frames = json.load(f)\n",
    "    \n",
    "with open('selected_frames_with_importance_gt.json', 'r') as f:\n",
    "    selected_frames_gt = json.load(f)\n",
    "    \n",
    "frames = []\n",
    "for value in selected_frames.values():\n",
    "    for v in value:\n",
    "        frames.append(v[0])\n",
    "        \n",
    "frames_gt = []\n",
    "for value in selected_frames_gt.values():\n",
    "    for v in value:\n",
    "        frames_gt.append(v[0])\n",
    "        \n",
    "frames_common = [frame for frame in frames if frame in frames_gt]\n",
    "\n",
    "total = sum([i[1] - i[0] + 1 for i in frames])\n",
    "total_gt = sum([i[1] - i[0] + 1 for i in frames_gt])\n",
    "total_common = sum([i[1] - i[0] + 1 for i in frames_common])\n",
    "\n",
    "precision = total_common / total\n",
    "recall = total_common / total_gt\n",
    "\n",
    "f1 = 2 * precision * recall / (precision + recall)\n",
    "\n",
    "print(f\"F1 score: {f1}\")"
   ]
  },
  {
   "cell_type": "code",
   "execution_count": 292,
   "metadata": {},
   "outputs": [
    {
     "name": "stdout",
     "output_type": "stream",
     "text": [
      "gzDbaEs1Rlg.mp4: 0.4565880721220527\n",
      "jcoYJXDG9sw.mp4: 0.4307486183218891\n",
      "oDXZc0tZe04.mp4: 0.4094971088137375\n",
      "PJrm840pAUI.mp4: 0.5276595744680851\n",
      "EYqVtI9YWJA.mp4: 0.4866139080653309\n",
      "37rzWOQsNIw.mp4: 0.5503308951584813\n",
      "JgHubY5Vw3Y.mp4: 0.5780669144981413\n",
      "z_6gVvQb2d0.mp4: 0.530370728172926\n",
      "J0nA4VgnoCo.mp4: 0.5806405592410301\n",
      "Average Max 3 F1 score: 0.5696794562992176\n"
     ]
    }
   ],
   "source": [
    "#Calculate F1 score per video\n",
    "\n",
    "f1_per_video = {}\n",
    "\n",
    "for key in selected_frames.keys():\n",
    "    frames = [v[0] for v in selected_frames[key]]\n",
    "    frames_gt = [v[0] for v in selected_frames_gt[key]]\n",
    "    frames_common = [frame for frame in frames if frame in frames_gt]\n",
    "    \n",
    "    total = sum([i[1] - i[0] + 1 for i in frames])\n",
    "    total_gt = sum([i[1] - i[0] + 1 for i in frames_gt])\n",
    "    total_common = sum([i[1] - i[0] + 1 for i in frames_common])\n",
    "    \n",
    "    precision = total_common / total\n",
    "    recall = total_common / total_gt\n",
    "    try:\n",
    "        f1 = 2 * precision * recall / (precision + recall)\n",
    "    except ZeroDivisionError:\n",
    "        f1 = 0\n",
    "    \n",
    "    f1_per_video[key] = f1\n",
    "    \n",
    "for key, value in f1_per_video.items():\n",
    "    print(f\"{key}: {value}\")\n",
    "    \n",
    "\n",
    "print(f\"Average Max 3 F1 score: {sum(sorted(list(f1_per_video.values()), reverse=True)[:3]) / 3}\")"
   ]
  },
  {
   "cell_type": "code",
   "execution_count": null,
   "metadata": {},
   "outputs": [],
   "source": [
    "10%: 0.1867\n",
    "20%: 0.2879\n",
    "30%: 0.3902\n",
    "40%: 0.5045\n",
    "50%: 0.5965"
   ]
  }
 ],
 "metadata": {
  "kernelspec": {
   "display_name": "Python 3",
   "language": "python",
   "name": "python3"
  },
  "language_info": {
   "codemirror_mode": {
    "name": "ipython",
    "version": 3
   },
   "file_extension": ".py",
   "mimetype": "text/x-python",
   "name": "python",
   "nbconvert_exporter": "python",
   "pygments_lexer": "ipython3",
   "version": "3.7.16"
  }
 },
 "nbformat": 4,
 "nbformat_minor": 2
}
